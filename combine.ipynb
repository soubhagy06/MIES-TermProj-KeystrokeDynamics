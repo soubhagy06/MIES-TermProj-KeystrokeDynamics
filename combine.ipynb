{
 "cells": [
  {
   "cell_type": "code",
   "execution_count": 10,
   "metadata": {
    "collapsed": true
   },
   "outputs": [],
   "source": [
    "import pandas as pd"
   ]
  },
  {
   "cell_type": "code",
   "execution_count": 11,
   "metadata": {
    "collapsed": true
   },
   "outputs": [],
   "source": [
    "df1=pd.read_csv('final_mean_0.csv')\n",
    "df1=df1.drop('index',axis=1)\n",
    "df2=pd.read_csv('final_mean_1.csv')\n",
    "df2=df2.drop('index',axis=1)\n",
    "df3=pd.read_csv('final_mean_2.csv')\n",
    "df3=df3.drop('index',axis=1)\n",
    "df4=pd.read_csv('final_mean_3.csv')\n",
    "df4=df4.drop('index',axis=1)\n",
    "\n",
    "df5=pd.read_csv('final_mean_4.csv')\n",
    "df5=df5.drop('index',axis=1)\n",
    "df6=pd.read_csv('final_mean_5.csv')\n",
    "df6=df6.drop('index',axis=1)\n",
    "\n",
    "df=df1.append(df2,ignore_index=True)\n",
    "df=df.append(df3,ignore_index=True)\n",
    "df=df.append(df4,ignore_index=True)\n",
    "\n",
    "df=df.append(df5,ignore_index=True)\n",
    "df=df.append(df6,ignore_index=True)"
   ]
  },
  {
   "cell_type": "code",
   "execution_count": 12,
   "metadata": {
    "collapsed": true
   },
   "outputs": [],
   "source": [
    "df1=df[['lr','rl','Lr','Rl','ll','rr','l','r','L','R','Space','Enter','cpm','y']]\n",
    "\n",
    "df1.to_csv('data_final.csv',index=False)\n",
    "#df.to_csv('data_final.csv',index=False)"
   ]
  },
  {
   "cell_type": "code",
   "execution_count": null,
   "metadata": {
    "collapsed": true
   },
   "outputs": [],
   "source": []
  }
 ],
 "metadata": {
  "kernelspec": {
   "display_name": "Python [Root]",
   "language": "python",
   "name": "Python [Root]"
  },
  "language_info": {
   "codemirror_mode": {
    "name": "ipython",
    "version": 2
   },
   "file_extension": ".py",
   "mimetype": "text/x-python",
   "name": "python",
   "nbconvert_exporter": "python",
   "pygments_lexer": "ipython2",
   "version": "2.7.12"
  }
 },
 "nbformat": 4,
 "nbformat_minor": 0
}
